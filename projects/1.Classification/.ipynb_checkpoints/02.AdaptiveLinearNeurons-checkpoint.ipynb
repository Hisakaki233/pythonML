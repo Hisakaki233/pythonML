{
 "cells": [
  {
   "cell_type": "markdown",
   "metadata": {},
   "source": [
    "# Adaline ( ADAptive LInear NEuron)\n",
    "\n",
    "An improvement of the perceptron algorithm, \n",
    "Mainly by adding COST FUNCTION"
   ]
  },
  {
   "cell_type": "code",
   "execution_count": 1,
   "metadata": {},
   "outputs": [],
   "source": [
    "import numpy as np"
   ]
  },
  {
   "cell_type": "code",
   "execution_count": null,
   "metadata": {},
   "outputs": [],
   "source": [
    "class AdalineGD(object):\n",
    "    \n",
    "    \"\"\"ADAptive LInear NEuron classifier.\n",
    "    \n",
    "    Parameters\n",
    "    ----------------------\n",
    "    eta: float\n",
    "        Learning rate\n",
    "    \n",
    "    n_iter: int\n",
    "        Passes over the training dataset\n",
    "        \n",
    "    Attributes\n",
    "    ----------------------\n",
    "    w_: 1d-array\n",
    "        Weights after fitting\n",
    "        \n",
    "    errors_: list\n",
    "        Number of misclassifications in every epoch\n",
    "    \n",
    "    \"\"\"\n",
    "        \n",
    "    def __init__(self, eta, n_iter):\n",
    "        \n",
    "        self.eta = eta\n",
    "        self.n_iter = n_iter\n",
    "    \n",
    "    def fit(self, X, y):\n",
    "        \"\"\" Fit training data\n",
    "        \n",
    "        Parameters\n",
    "        ----------------------\n",
    "        X: {array-like}, shape = [n_samples, n_features]\n",
    "            Training vectors, where n_samples is the number of samples and n_features is the number of features\n",
    "        y: array-like, shape = [n_samples]\n",
    "            Target values.\n",
    "    \n",
    "        Returns\n",
    "        ----------------------\n",
    "        self: object\n",
    "        \n",
    "        \"\"\"\n",
    "        self.w_ = np.zeros(1 + X.shape[1])\n",
    "        self.cost_ = []\n",
    "        \n",
    "        \n",
    "        \n",
    "    \n",
    "    def netInput(self, X):\n",
    "        \"\"\" Calculate net inputs \"\"\"\n",
    "        pass\n",
    "    \n",
    "    def activation(self, X):\n",
    "        \"\"\" Compute Linear Activation \"\"\"\n",
    "    \n",
    "    \n",
    "    def predict(self, X):\n",
    "        \"\"\" Return class label after unit step \"\"\"\n",
    "    \n",
    "    \n",
    "    "
   ]
  }
 ],
 "metadata": {
  "kernelspec": {
   "display_name": "Python 3",
   "language": "python",
   "name": "python3"
  },
  "language_info": {
   "codemirror_mode": {
    "name": "ipython",
    "version": 3
   },
   "file_extension": ".py",
   "mimetype": "text/x-python",
   "name": "python",
   "nbconvert_exporter": "python",
   "pygments_lexer": "ipython3",
   "version": "3.7.1"
  }
 },
 "nbformat": 4,
 "nbformat_minor": 2
}
